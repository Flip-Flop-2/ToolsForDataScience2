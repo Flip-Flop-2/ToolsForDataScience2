{
  "metadata": {
    "kernelspec": {
      "name": "python",
      "display_name": "Python (Pyodide)",
      "language": "python"
    },
    "language_info": {
      "codemirror_mode": {
        "name": "python",
        "version": 3
      },
      "file_extension": ".py",
      "mimetype": "text/x-python",
      "name": "python",
      "nbconvert_exporter": "python",
      "pygments_lexer": "ipython3",
      "version": "3.8"
    }
  },
  "nbformat_minor": 4,
  "nbformat": 4,
  "cells": [
    {
      "cell_type": "markdown",
      "source": "<h1> Data Science Tools and Ecosystems</h1>",
      "metadata": {}
    },
    {
      "cell_type": "markdown",
      "source": "<h3>In this notebook, Data Science Tools and Ecosystem are summarized. </h3>",
      "metadata": {}
    },
    {
      "cell_type": "markdown",
      "source": "<h4>Some of the popular languages that Data Scientists use are:</h4>\n\n1. Python\n2. R\n3. Java\n4. Scalia\n5. Julia",
      "metadata": {}
    },
    {
      "cell_type": "markdown",
      "source": "<h4>Some of the commonly used libraries used by Data Scientists include:</h4>\n\n1. Matplotlib\n2. Scikit-Learn\n3. Plotly\n4. ggplot\n5. Numpy\n6. Pandas\n7. Tenserflow\n   ",
      "metadata": {}
    },
    {
      "cell_type": "markdown",
      "source": "Data Science Tools |\n-------|\nPython|\nR|\n|Hadoop|\n|JupyterNotebook|\n ",
      "metadata": {}
    },
    {
      "cell_type": "markdown",
      "source": "### Below are a few examples of evaluating arithmetic expressions in Python.\n",
      "metadata": {}
    },
    {
      "cell_type": "code",
      "source": "#This a simple arithmetic expression to mutiply then add integers.\n(3*4)+5",
      "metadata": {
        "trusted": true
      },
      "outputs": [
        {
          "execution_count": 6,
          "output_type": "execute_result",
          "data": {
            "text/plain": "17"
          },
          "metadata": {}
        }
      ],
      "execution_count": 6
    },
    {
      "cell_type": "code",
      "source": "#  This will convert 200 minutes to hours by diving by 60.\nminutes = 200\nhours = minutes/60\nprint(hours)",
      "metadata": {
        "trusted": true
      },
      "outputs": [
        {
          "name": "stdout",
          "text": "3.3333333333333335\n",
          "output_type": "stream"
        }
      ],
      "execution_count": 8
    },
    {
      "cell_type": "markdown",
      "source": "__Objectives:__\n- Show code demonstrations in Jupyter Notebook\n- List popular languages for Data Science\n- List popular tools for Data Science\n- List commonly used Libraries in Data Science",
      "metadata": {}
    },
    {
      "cell_type": "markdown",
      "source": "## Author\nShabad Sangha",
      "metadata": {}
    },
    {
      "cell_type": "code",
      "source": "",
      "metadata": {
        "trusted": true
      },
      "outputs": [],
      "execution_count": null
    }
  ]
}